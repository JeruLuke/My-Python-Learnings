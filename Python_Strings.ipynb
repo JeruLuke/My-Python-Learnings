{
 "cells": [
  {
   "cell_type": "markdown",
   "metadata": {},
   "source": [
    "\n",
    "# Strings\n"
   ]
  },
  {
   "cell_type": "markdown",
   "metadata": {},
   "source": [
    "## String Concatenation"
   ]
  },
  {
   "cell_type": "code",
   "execution_count": 2,
   "metadata": {
    "collapsed": false
   },
   "outputs": [
    {
     "name": "stdout",
     "output_type": "stream",
     "text": [
      "Hello there Jeff\n",
      "Hello there Gary\n",
      "Hello there Jill\n",
      "Hello there Samantha\n"
     ]
    }
   ],
   "source": [
    "names = ['Jeff', 'Gary', 'Jill', 'Samantha']\n",
    "\n",
    "for name in names:\n",
    "    statement = 'Hello there ' + name\n",
    "    print(statement)"
   ]
  },
  {
   "cell_type": "markdown",
   "metadata": {},
   "source": [
    "Using `.join()`"
   ]
  },
  {
   "cell_type": "code",
   "execution_count": 3,
   "metadata": {
    "collapsed": false
   },
   "outputs": [
    {
     "name": "stdout",
     "output_type": "stream",
     "text": [
      "Hello there Jeff\n",
      "Hello there Gary\n",
      "Hello there Jill\n",
      "Hello there Samantha\n"
     ]
    }
   ],
   "source": [
    "names = ['Jeff', 'Gary', 'Jill', 'Samantha']\n",
    "\n",
    "for name in names:\n",
    "    statement = ' '.join(['Hello there', name])\n",
    "    print(statement)"
   ]
  },
  {
   "cell_type": "code",
   "execution_count": 4,
   "metadata": {
    "collapsed": false
   },
   "outputs": [
    {
     "name": "stdout",
     "output_type": "stream",
     "text": [
      "Jeff, Gary, Jill, Samantha\n"
     ]
    }
   ],
   "source": [
    "print(', '.join(names))"
   ]
  },
  {
   "cell_type": "markdown",
   "metadata": {},
   "source": [
    "### Something interesting:\n",
    "\n",
    "When passing a list to `.join()` it returns it in the same order. But when doing the same for a `set` containing strings it prints it in some random order."
   ]
  },
  {
   "cell_type": "code",
   "execution_count": 24,
   "metadata": {
    "collapsed": false
   },
   "outputs": [
    {
     "name": "stdout",
     "output_type": "stream",
     "text": [
      "John and Sam and Thomas and Ben and Adam\n"
     ]
    }
   ],
   "source": [
    "list1 = ['John', 'Sam', 'Thomas', 'Ben', 'Adam']\n",
    "print(' and '.join(list1))"
   ]
  },
  {
   "cell_type": "code",
   "execution_count": 22,
   "metadata": {
    "collapsed": false
   },
   "outputs": [
    {
     "name": "stdout",
     "output_type": "stream",
     "text": [
      "Thomas and John and Ben and Adam and Sam\n"
     ]
    }
   ],
   "source": [
    "set1 = {'John', 'Sam', 'Thomas', 'Ben', 'Adam'}\n",
    "print(' and '.join(set1))"
   ]
  },
  {
   "cell_type": "markdown",
   "metadata": {},
   "source": [
    "While working with file locations use `os.path.join` from the `os` module."
   ]
  },
  {
   "cell_type": "code",
   "execution_count": 28,
   "metadata": {
    "collapsed": false
   },
   "outputs": [
    {
     "name": "stdout",
     "output_type": "stream",
     "text": [
      "88YCH-KKCHU-SQUJY-AKMMV-78ERM\n"
     ]
    }
   ],
   "source": [
    "loc = 'C:\\\\Users\\\\selwyn77\\\\Desktop'\n",
    "text_file = 'Camtasia_key.txt'\n",
    "\n",
    "import os\n",
    "with open(os.path.join(loc, text_file)) as f:\n",
    "    print(f.read())"
   ]
  },
  {
   "cell_type": "markdown",
   "metadata": {},
   "source": [
    "## String Formatting"
   ]
  },
  {
   "cell_type": "code",
   "execution_count": 35,
   "metadata": {
    "collapsed": false
   },
   "outputs": [
    {
     "name": "stdout",
     "output_type": "stream",
     "text": [
      "Amy bought 12 apples today!\n",
      "Amy bought 12 apples today!\n",
      "Python has 002 quote types.\n"
     ]
    }
   ],
   "source": [
    "who = 'Amy'\n",
    "how_many = 12\n",
    "\n",
    "print('{} bought {} apples today!'.format(who, how_many))\n",
    "print('%s bought %s apples today!'%(who, how_many))\n",
    "print '%(language)s has %(number)03d quote types.' % {\"language\": \"Python\", \"number\": 2}\n"
   ]
  },
  {
   "cell_type": "code",
   "execution_count": 37,
   "metadata": {
    "collapsed": false
   },
   "outputs": [
    {
     "data": {
      "text/plain": [
       "'cats and dogs'"
      ]
     },
     "execution_count": 37,
     "metadata": {},
     "output_type": "execute_result"
    }
   ],
   "source": [
    "s = '%s and %s'\n",
    "s % ('cats', 'dogs' )\n"
   ]
  },
  {
   "cell_type": "code",
   "execution_count": null,
   "metadata": {
    "collapsed": true
   },
   "outputs": [],
   "source": []
  }
 ],
 "metadata": {
  "kernelspec": {
   "display_name": "Python 2",
   "language": "python",
   "name": "python2"
  },
  "language_info": {
   "codemirror_mode": {
    "name": "ipython",
    "version": 2
   },
   "file_extension": ".py",
   "mimetype": "text/x-python",
   "name": "python",
   "nbconvert_exporter": "python",
   "pygments_lexer": "ipython2",
   "version": "2.7.13"
  }
 },
 "nbformat": 4,
 "nbformat_minor": 0
}
