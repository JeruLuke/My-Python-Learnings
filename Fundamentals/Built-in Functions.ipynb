{
 "cells": [
  {
   "cell_type": "markdown",
   "metadata": {},
   "source": [
    "# Built-in Functions\n",
    "\n",
    "(Courtesy Real Python)"
   ]
  },
  {
   "cell_type": "markdown",
   "metadata": {},
   "source": [
    "Built-In Functions\n",
    "The Python interpreter supports many functions that are built-in: sixty-eight, as of Python 3.6. \n",
    "\n",
    "## Math\n",
    "\n",
    "- `abs()`:\tReturns absolute value of a number\n",
    "- `divmod()`:\tReturns quotient and remainder of integer division\n",
    "- `max()`:\tReturns the largest of the given arguments or items in an iterable\n",
    "- `min()`:\tReturns the smallest of the given arguments or items in an iterable\n",
    "- `pow()`:\tRaises a number to a power\n",
    "- `round()`:\tRounds a floating-point value\n",
    "- `sum()`:\tSums the items of an iterable\n"
   ]
  },
  {
   "cell_type": "markdown",
   "metadata": {},
   "source": [
    "\n",
    "## Type Conversion\n",
    "\n",
    "- `ascii()`:\tReturns a string containing a printable representation of an object\n",
    "- `bin()`:\tConverts an integer to a binary string\n",
    "- `bool()`:\tConverts an argument to a Boolean value\n",
    "- `chr()`:\tReturns string representation of character given by integer argument\n",
    "- `complex()`:\tReturns a complex number constructed from arguments\n",
    "- `float()`:\tReturns a floating-point object constructed from a number or string\n",
    "- `hex()`:\tConverts an integer to a hexadecimal string\n",
    "- `int()`:\tReturns an integer object constructed from a number or string\n",
    "- `oct()`:\tConverts an integer to an octal string\n",
    "- `ord()`:\tReturns integer representation of a character\n",
    "- `repr()`:\tReturns a string containing a printable representation of an object\n",
    "- `str()`:\tReturns a string version of an object\n",
    "- `type()`:\tReturns the type of an object or creates a new type object\n",
    "\n"
   ]
  },
  {
   "cell_type": "markdown",
   "metadata": {},
   "source": [
    "## Iterables and Iterators\n",
    "\n",
    "- `all()`:\tReturns True if all elements of an iterable are true\n",
    "- `any()`:\tReturns True if any elements of an iterable are true\n",
    "- `enumerate()`:\tReturns a list of tuples containing indices and values from an iterable\n",
    "- `filter()`:\tFilters elements from an iterable\n",
    "- `iter()`:\tReturns an iterator object\n",
    "- `len()`:\tReturns the length of an object\n",
    "- `map()`:\tApplies a function to every item of an iterable\n",
    "- `next()`:\tRetrieves the next item from an iterator\n",
    "- `range()`:\tGenerates a range of integer values\n",
    "- `reversed()`:\tReturns a reverse iterator\n",
    "- `slice()`:\tReturns a slice object\n",
    "- `sorted()`:\tReturns a sorted list from an iterable\n",
    "- `zip()`:\tCreates an iterator that aggregates elements from iterables"
   ]
  },
  {
   "cell_type": "markdown",
   "metadata": {},
   "source": [
    "## Composite Data Type\n",
    "\n",
    "- `bytearray()`:\tCreates and returns an object of the bytearray class\n",
    "- `bytes()`:\tCreates and returns a bytes object (similar to bytearray, but immutable)\n",
    "- `dict()`:\tCreates a dict object\n",
    "- `frozenset()`:\tCreates a frozenset object\n",
    "- `list()`:\tConstructs a list object\n",
    "- `object()`:\tReturns a new featureless object\n",
    "- `set()`:\tCreates a set object\n",
    "- `tuple()`:\tCreates a tuple object\n"
   ]
  },
  {
   "cell_type": "markdown",
   "metadata": {},
   "source": [
    "## Classes, Attributes, and Inheritance\n",
    "\n",
    "- `classmethod()`:\tReturns a class method for a function\n",
    "- `delattr()`:\tDeletes an attribute from an object\n",
    "- `getattr()`:\tReturns the value of a named attribute of an object\n",
    "- `hasattr()`:\tReturns True if an object has a given attribute\n",
    "- `isinstance()`:\tDetermines whether an object is an instance of a given class\n",
    "- `issubclass()`:\tDetermines whether a class is a subclass of a given class\n",
    "- `property()`:\tReturns a property value of a class\n",
    "- `setattr()`:\tSets the value of a named attribute of an object\n",
    "- `super()`:\tReturns a proxy object that delegates method calls to a parent or sibling class"
   ]
  },
  {
   "cell_type": "markdown",
   "metadata": {},
   "source": [
    "## Input/Output\n",
    "\n",
    "- `format()`:\tConverts a value to a formatted representation\n",
    "- `input()`:\tReads input from the console\n",
    "- `open()`:\tOpens a file and returns a file object\n",
    "- `print()`:\tPrints to a text stream or the console"
   ]
  },
  {
   "cell_type": "markdown",
   "metadata": {},
   "source": [
    "## Variables, References, and Scope\n",
    "\n",
    "- `dir()`:\t    Returns a list of names in current local scope or a list of object attributes\n",
    "- `globals()`:\tReturns a dictionary representing the current global symbol table\n",
    "- `id()`:\t    Returns the identity of an object\n",
    "- `locals()`:\tUpdates and returns a dictionary representing current local symbol table\n",
    "- `vars()`:\t    Returns __dict__ attribute for a module, class, or object\n"
   ]
  },
  {
   "cell_type": "markdown",
   "metadata": {},
   "source": [
    "## Miscellaneous\n",
    "\n",
    "- `callable()`:\tReturns True if object appears callable\n",
    "- `compile()`:\tCompiles source into a code or AST object\n",
    "- `eval()`:\tEvaluates a Python expression\n",
    "- `exec()`:\tImplements dynamic execution of Python code\n",
    "- `hash()`:\tReturns the hash value of an object\n",
    "- `help()`:\tInvokes the built-in help system\n",
    "- `memoryview()`:\tReturns a memory view object\n",
    "- `staticmethod()`:\tReturns a static method for a function\n",
    "- `__import__()`:\tInvoked by the import statement"
   ]
  }
 ],
 "metadata": {
  "kernelspec": {
   "display_name": "Python 2",
   "language": "python",
   "name": "python2"
  },
  "language_info": {
   "codemirror_mode": {
    "name": "ipython",
    "version": 2
   },
   "file_extension": ".py",
   "mimetype": "text/x-python",
   "name": "python",
   "nbconvert_exporter": "python",
   "pygments_lexer": "ipython2",
   "version": "2.7.13"
  }
 },
 "nbformat": 4,
 "nbformat_minor": 0
}
